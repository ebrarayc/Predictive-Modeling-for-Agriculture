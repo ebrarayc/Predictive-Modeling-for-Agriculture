{
 "cells": [
  {
   "cell_type": "markdown",
   "id": "d3d001b0-2e2f-4b58-8442-99520bad831f",
   "metadata": {},
   "source": [
    "# Sowing Success: How Machine Learning Helps Farmers Select the Best Crops\n",
    "\n",
    "![Farmer in a field](farmer_in_a_field.jpg)\n",
    "\n",
    "Measuring essential soil metrics such as nitrogen, phosphorous, potassium levels, and pH value is an important aspect of assessing soil condition. However, it can be an expensive and time-consuming process, which can cause farmers to prioritize which metrics to measure based on their budget constraints.\n",
    "\n",
    "Farmers have various options when it comes to deciding which crop to plant each season. Their primary objective is to maximize the yield of their crops, taking into account different factors. One crucial factor that affects crop growth is the condition of the soil in the field, which can be assessed by measuring basic elements such as nitrogen and potassium levels. Each crop has an ideal soil condition that ensures optimal growth and maximum yield.\n",
    "\n",
    "A farmer reached out to you as a machine learning expert for assistance in selecting the best crop for his field. They've provided you with a dataset called `soil_measures.csv`, which contains:\n",
    "\n",
    "- `\"N\"`: Nitrogen content ratio in the soil\n",
    "- `\"P\"`: Phosphorous content ratio in the soil\n",
    "- `\"K\"`: Potassium content ratio in the soil\n",
    "- `\"pH\"` value of the soil\n",
    "- `\"crop\"`: categorical values that contain various crops (target variable).\n",
    "\n",
    "Each row in this dataset represents various measures of the soil in a particular field. Based on these measurements, the crop specified in the `\"crop\"` column is the optimal choice for that field.  \n",
    "\n",
    "In this project, you will build multi-class classification models to predict the type of `\"crop\"` and identify the single most importance feature for predictive performance."
   ]
  },
  {
   "cell_type": "code",
   "execution_count": 10,
   "id": "d0eb4f16-5a99-460d-a5ba-706b7ef0bbe7",
   "metadata": {
    "executionCancelledAt": null,
    "executionTime": 59,
    "id": "bA5ajAmk7XH6",
    "lastExecutedAt": 1734979187875,
    "lastExecutedByKernel": "d566eae6-686a-4c4a-8103-d2d51f9a7128",
    "lastScheduledRunId": null,
    "lastSuccessfullyExecutedCode": "# All required libraries are imported here for you.\nimport pandas as pd\nfrom sklearn.linear_model import LogisticRegression\nfrom sklearn.model_selection import train_test_split\nfrom sklearn import metrics\nfrom sklearn.metrics import accuracy_score\n\n# Load the dataset\ncrops = pd.read_csv(\"soil_measures.csv\")\n\n# Write your code here\ncrops.head()\n",
    "outputsMetadata": {
     "0": {
      "height": 245,
      "tableState": {
       "quickFilterText": ""
      },
      "type": "dataFrame"
     }
    }
   },
   "outputs": [
    {
     "data": {
      "application/com.datacamp.data-table.v2+json": {
       "table": {
        "data": {
         "K": [
          43,
          41,
          44,
          40,
          42
         ],
         "N": [
          90,
          85,
          60,
          74,
          78
         ],
         "P": [
          42,
          58,
          55,
          35,
          42
         ],
         "crop": [
          "rice",
          "rice",
          "rice",
          "rice",
          "rice"
         ],
         "index": [
          0,
          1,
          2,
          3,
          4
         ],
         "ph": [
          6.502985292,
          7.038096361,
          7.840207144,
          6.980400905,
          7.628472891
         ]
        },
        "schema": {
         "fields": [
          {
           "name": "index",
           "type": "integer"
          },
          {
           "name": "N",
           "type": "integer"
          },
          {
           "name": "P",
           "type": "integer"
          },
          {
           "name": "K",
           "type": "integer"
          },
          {
           "name": "ph",
           "type": "number"
          },
          {
           "name": "crop",
           "type": "string"
          }
         ],
         "pandas_version": "1.4.0",
         "primaryKey": [
          "index"
         ]
        }
       },
       "total_rows": 5,
       "truncation_type": null
      },
      "text/html": [
       "<div>\n",
       "<style scoped>\n",
       "    .dataframe tbody tr th:only-of-type {\n",
       "        vertical-align: middle;\n",
       "    }\n",
       "\n",
       "    .dataframe tbody tr th {\n",
       "        vertical-align: top;\n",
       "    }\n",
       "\n",
       "    .dataframe thead th {\n",
       "        text-align: right;\n",
       "    }\n",
       "</style>\n",
       "<table border=\"1\" class=\"dataframe\">\n",
       "  <thead>\n",
       "    <tr style=\"text-align: right;\">\n",
       "      <th></th>\n",
       "      <th>N</th>\n",
       "      <th>P</th>\n",
       "      <th>K</th>\n",
       "      <th>ph</th>\n",
       "      <th>crop</th>\n",
       "    </tr>\n",
       "  </thead>\n",
       "  <tbody>\n",
       "    <tr>\n",
       "      <th>0</th>\n",
       "      <td>90</td>\n",
       "      <td>42</td>\n",
       "      <td>43</td>\n",
       "      <td>6.502985</td>\n",
       "      <td>rice</td>\n",
       "    </tr>\n",
       "    <tr>\n",
       "      <th>1</th>\n",
       "      <td>85</td>\n",
       "      <td>58</td>\n",
       "      <td>41</td>\n",
       "      <td>7.038096</td>\n",
       "      <td>rice</td>\n",
       "    </tr>\n",
       "    <tr>\n",
       "      <th>2</th>\n",
       "      <td>60</td>\n",
       "      <td>55</td>\n",
       "      <td>44</td>\n",
       "      <td>7.840207</td>\n",
       "      <td>rice</td>\n",
       "    </tr>\n",
       "    <tr>\n",
       "      <th>3</th>\n",
       "      <td>74</td>\n",
       "      <td>35</td>\n",
       "      <td>40</td>\n",
       "      <td>6.980401</td>\n",
       "      <td>rice</td>\n",
       "    </tr>\n",
       "    <tr>\n",
       "      <th>4</th>\n",
       "      <td>78</td>\n",
       "      <td>42</td>\n",
       "      <td>42</td>\n",
       "      <td>7.628473</td>\n",
       "      <td>rice</td>\n",
       "    </tr>\n",
       "  </tbody>\n",
       "</table>\n",
       "</div>"
      ],
      "text/plain": [
       "    N   P   K        ph  crop\n",
       "0  90  42  43  6.502985  rice\n",
       "1  85  58  41  7.038096  rice\n",
       "2  60  55  44  7.840207  rice\n",
       "3  74  35  40  6.980401  rice\n",
       "4  78  42  42  7.628473  rice"
      ]
     },
     "execution_count": 10,
     "metadata": {},
     "output_type": "execute_result"
    }
   ],
   "source": [
    "# All required libraries are imported here for you.\n",
    "import pandas as pd\n",
    "from sklearn.linear_model import LogisticRegression\n",
    "from sklearn.model_selection import train_test_split\n",
    "from sklearn import metrics\n",
    "from sklearn.metrics import accuracy_score\n",
    "\n",
    "# Load the dataset\n",
    "crops = pd.read_csv(\"soil_measures.csv\")\n",
    "\n",
    "\n",
    "crops.head()\n"
   ]
  },
  {
   "cell_type": "code",
   "execution_count": 11,
   "id": "be055903-27cf-41b7-a185-90cbeb8765ee",
   "metadata": {
    "executionCancelledAt": null,
    "executionTime": 50,
    "lastExecutedAt": 1734979187925,
    "lastExecutedByKernel": "d566eae6-686a-4c4a-8103-d2d51f9a7128",
    "lastScheduledRunId": null,
    "lastSuccessfullyExecutedCode": "X = crops.drop(\"crop\" , axis=1).values\ny = crops[\"crop\"].values\nprint(type(X), type(y))",
    "outputsMetadata": {
     "0": {
      "height": 38,
      "type": "stream"
     }
    }
   },
   "outputs": [
    {
     "name": "stdout",
     "output_type": "stream",
     "text": [
      "<class 'numpy.ndarray'> <class 'numpy.ndarray'>\n"
     ]
    }
   ],
   "source": [
    "X = crops.drop(\"crop\" , axis=1).values # Features\n",
    "y = crops[\"crop\"].values # Target variable (crop)\n",
    "print(type(X), type(y)) # Check the types of X and y"
   ]
  },
  {
   "cell_type": "code",
   "execution_count": 12,
   "id": "6dc3e3db-1c32-4e26-a42f-ae4f91f3195b",
   "metadata": {
    "executionCancelledAt": null,
    "executionTime": 30792,
    "lastExecutedAt": 1734979218717,
    "lastExecutedByKernel": "d566eae6-686a-4c4a-8103-d2d51f9a7128",
    "lastScheduledRunId": null,
    "lastSuccessfullyExecutedCode": "best_score = 0\nbest_predictive_feature = {}\n\n# Özellik isimlerini belirliyoruz\nfeature_names = ['N', 'P', 'K', 'pH']\n\n# Her bir özellik için döngü oluşturuyoruz\nfor i, feature in enumerate(feature_names):\n    # Şu anki özelliği seçiyoruz (index kullanarak)\n    X_single = X[:, i].reshape(-1, 1)  # Özelliği 2D dizisine dönüştürüyoruz\n    \n    # Veriyi eğitim ve test setlerine ayırıyoruz\n    X_train, X_test, y_train, y_test = train_test_split(X_single, y, test_size=0.3, random_state=42)\n    \n    # Lojistik regresyon modelini oluşturuyoruz\n    model = LogisticRegression(max_iter=1000)\n    model.fit(X_train, y_train)\n    \n    # Test seti üzerinde tahmin yapıyoruz\n    y_pred = model.predict(X_test)\n    \n    # Modelin doğruluk (accuracy) skorunu hesaplıyoruz\n    accuracy = accuracy_score(y_test, y_pred)\n    \n    # Eğer bu özellik en iyi skoru veriyorsa, dictionary'yi güncelliyoruz\n    if accuracy > best_score:\n        best_score = accuracy\n        best_predictive_feature = {feature: accuracy}\n\n# En iyi özellik ve doğruluk skorunu yazdırıyoruz\nprint(best_predictive_feature)\n",
    "outputsMetadata": {
     "0": {
      "height": 38,
      "type": "stream"
     }
    }
   },
   "outputs": [
    {
     "name": "stdout",
     "output_type": "stream",
     "text": [
      "{'K': 0.26666666666666666}\n"
     ]
    }
   ],
   "source": [
    "best_score = 0\n",
    "best_predictive_feature = {}\n",
    "\n",
    "# Define the feature names\n",
    "feature_names = ['N', 'P', 'K', 'pH']\n",
    "\n",
    "# Loop over each feature to evaluate its predictive power\n",
    "for i, feature in enumerate(feature_names):\n",
    "    \n",
    "    X_single = X[:, i].reshape(-1, 1)  # Convert the feature to a 2D array\n",
    "    \n",
    "   # Split the data into training and testing sets\n",
    "    X_train, X_test, y_train, y_test = train_test_split(X_single, y, test_size=0.3, random_state=42)\n",
    "    \n",
    "    # Create a logistic regression model\n",
    "    model = LogisticRegression(max_iter=1000)\n",
    "    model.fit(X_train, y_train)\n",
    "    \n",
    "    # Make predictions on the test set\n",
    "    y_pred = model.predict(X_test)\n",
    "    \n",
    "    # Calculate the model's accuracy score\n",
    "    accuracy = accuracy_score(y_test, y_pred)\n",
    "    \n",
    "    # If this feature gives the best score, update the dictionary\n",
    "    if accuracy > best_score:\n",
    "        best_score = accuracy\n",
    "        best_predictive_feature = {feature: accuracy}\n",
    "\n",
    "# Print the best feature and its accuracy score\n",
    "print(best_predictive_feature)\n"
   ]
  }
 ],
 "metadata": {
  "colab": {
   "name": "Welcome to DataCamp Workspaces.ipynb",
   "provenance": []
  },
  "kernelspec": {
   "display_name": "Python 3 (ipykernel)",
   "language": "python",
   "name": "python3"
  },
  "language_info": {
   "codemirror_mode": {
    "name": "ipython",
    "version": 3
   },
   "file_extension": ".py",
   "mimetype": "text/x-python",
   "name": "python",
   "nbconvert_exporter": "python",
   "pygments_lexer": "ipython3",
   "version": "3.8.10"
  }
 },
 "nbformat": 4,
 "nbformat_minor": 5
}
